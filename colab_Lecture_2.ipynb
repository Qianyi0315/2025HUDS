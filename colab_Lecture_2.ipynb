{
  "nbformat": 4,
  "nbformat_minor": 0,
  "metadata": {
    "colab": {
      "provenance": []
    },
    "kernelspec": {
      "name": "python3",
      "display_name": "Python 3"
    },
    "language_info": {
      "name": "python"
    }
  },
  "cells": [
    {
      "cell_type": "code",
      "execution_count": null,
      "metadata": {
        "colab": {
          "base_uri": "https://localhost:8080/"
        },
        "id": "LkxuD0vJVWkL",
        "outputId": "9de58e34-3a20-45f6-b26e-4f3b95537a96"
      },
      "outputs": [
        {
          "output_type": "stream",
          "name": "stdout",
          "text": [
            "hello black world\n"
          ]
        }
      ],
      "source": [
        "print ('hello black world')"
      ]
    },
    {
      "cell_type": "markdown",
      "source": [
        "This is where we can enter some text about out project.\n",
        "# <b>Big tittle<b>\n",
        "## **Subtitles or section title**\n",
        "### *Subsection*\n",
        "#### Another section\n",
        "##### Smallest section title\n",
        "\n",
        "```\n",
        "print(\"I am a HBCU Scholar!\")\n",
        "```\n",
        "$$ ... $$ create a centered math block\n",
        "Everything inside $$ ... $$ is written in LaTeX math mode, so you can write fractions, Greek letters, integrals, etc.\n",
        "\n",
        "$$\\sum_{n=1}^{10} \\log \\frac{6n+7j}{3n}$$\n",
        "\n",
        "* This is some bullet text\n",
        "* Adding additional text\n",
        "* Last point of interest\n",
        "\n"
      ],
      "metadata": {
        "id": "NhUWQER_YY-E"
      }
    },
    {
      "cell_type": "code",
      "source": [
        "# Let's create our first print statement\n",
        "print(\"Hello, Black World!\")"
      ],
      "metadata": {
        "colab": {
          "base_uri": "https://localhost:8080/"
        },
        "id": "moWSs4vAKHh3",
        "outputId": "6e3356b1-792f-4654-d873-1ba285940e29"
      },
      "execution_count": null,
      "outputs": [
        {
          "output_type": "stream",
          "name": "stdout",
          "text": [
            "Hello, Black World!\n"
          ]
        }
      ]
    },
    {
      "cell_type": "code",
      "source": [
        "import math\n",
        "print(math.pi)"
      ],
      "metadata": {
        "colab": {
          "base_uri": "https://localhost:8080/"
        },
        "id": "ysV-E2gzOHse",
        "outputId": "68f35e12-22eb-4e45-a223-ee852b08e597"
      },
      "execution_count": null,
      "outputs": [
        {
          "output_type": "stream",
          "name": "stdout",
          "text": [
            "3.141592653589793\n"
          ]
        }
      ]
    },
    {
      "cell_type": "code",
      "source": [
        "# Same code with the single quotes\n",
        "print ('Hello, Black World!')"
      ],
      "metadata": {
        "colab": {
          "base_uri": "https://localhost:8080/"
        },
        "id": "cJfzwT0ZR6dt",
        "outputId": "a70fe41f-9b83-49c2-8abf-142ae996ce36"
      },
      "execution_count": null,
      "outputs": [
        {
          "output_type": "stream",
          "name": "stdout",
          "text": [
            "Hello, Black World!\n"
          ]
        }
      ]
    },
    {
      "cell_type": "code",
      "source": [
        "# Let's print the value of pi from the math module\n",
        "# Import the math module\n",
        "import math\n",
        "# Print the value of pi from the math module.\n",
        "print (math.pi)"
      ],
      "metadata": {
        "colab": {
          "base_uri": "https://localhost:8080/"
        },
        "id": "HWsuW2YrSGNj",
        "outputId": "f6bfa538-6c2b-4589-e769-979a2383c7c2"
      },
      "execution_count": null,
      "outputs": [
        {
          "output_type": "stream",
          "name": "stdout",
          "text": [
            "3.141592653589793\n"
          ]
        }
      ]
    },
    {
      "cell_type": "code",
      "source": [
        "# Let's create a variable with the value of pi from the math module\n",
        "pi = math.pi"
      ],
      "metadata": {
        "id": "-n8VTbPNSKW6"
      },
      "execution_count": null,
      "outputs": []
    },
    {
      "cell_type": "code",
      "source": [
        "# Print the value stored in the variable pi\n",
        "print (pi)"
      ],
      "metadata": {
        "colab": {
          "base_uri": "https://localhost:8080/"
        },
        "id": "Y9wDr6y-SOSj",
        "outputId": "5a1f5a71-a51d-49ec-8d97-dc33a9ee1d58"
      },
      "execution_count": null,
      "outputs": [
        {
          "output_type": "stream",
          "name": "stdout",
          "text": [
            "3.141592653589793\n"
          ]
        }
      ]
    },
    {
      "cell_type": "code",
      "source": [
        "# Print the value stored in the variable pi\n",
        "pi"
      ],
      "metadata": {
        "colab": {
          "base_uri": "https://localhost:8080/"
        },
        "id": "Co0sJLjtSR9Y",
        "outputId": "07412fbd-a563-4140-997e-2bfbaa31e310"
      },
      "execution_count": null,
      "outputs": [
        {
          "output_type": "execute_result",
          "data": {
            "text/plain": [
              "3.141592653589793"
            ]
          },
          "metadata": {},
          "execution_count": 8
        }
      ]
    },
    {
      "cell_type": "code",
      "source": [
        "\"\"\" Let's print the statement the value of pi is\n",
        "with the value stpred in the variable pi\"\"\"\n",
        "print(\"The value of pi is: \", pi)"
      ],
      "metadata": {
        "colab": {
          "base_uri": "https://localhost:8080/"
        },
        "id": "T8-xsofhSb6H",
        "outputId": "43df29e3-11ff-4056-f54a-df52a03fb99b"
      },
      "execution_count": null,
      "outputs": [
        {
          "output_type": "stream",
          "name": "stdout",
          "text": [
            "The value of pi is:  3.141592653589793\n"
          ]
        }
      ]
    },
    {
      "cell_type": "code",
      "source": [
        "\"\"\" Let's print the statement the value of pi is\n",
        "with the value stpred in the variable pi\"\"\"\n",
        "print(\"The value of pi is: \\n\", pi)"
      ],
      "metadata": {
        "colab": {
          "base_uri": "https://localhost:8080/"
        },
        "id": "NoS1BXs7ezjs",
        "outputId": "033792a7-6987-4212-9708-9c74244fa1a2"
      },
      "execution_count": null,
      "outputs": [
        {
          "output_type": "stream",
          "name": "stdout",
          "text": [
            "The value of pi is: \n",
            " 3.141592653589793\n"
          ]
        }
      ]
    },
    {
      "cell_type": "code",
      "source": [
        "x=5\n",
        "y=10\n",
        "print(\"The value of x is\", x, \"and the value of y is\", y)"
      ],
      "metadata": {
        "colab": {
          "base_uri": "https://localhost:8080/"
        },
        "id": "GbBNJUuur4Gy",
        "outputId": "50135434-bc1b-4035-95f0-dfe47630dd8a"
      },
      "execution_count": null,
      "outputs": [
        {
          "output_type": "stream",
          "name": "stdout",
          "text": [
            "The value of x is 5 and the value of y is 10\n"
          ]
        }
      ]
    },
    {
      "cell_type": "code",
      "source": [
        "event = \"March on Washington for Jobs and Freedom\"\n",
        "date = \"August 28, 1963\"\n",
        "print(\"Event:\", event, \"Date:\", date)"
      ],
      "metadata": {
        "colab": {
          "base_uri": "https://localhost:8080/"
        },
        "id": "aeXS2MWvsJ4h",
        "outputId": "ddd711c9-010c-4376-859f-9cd3ea69e222"
      },
      "execution_count": null,
      "outputs": [
        {
          "output_type": "stream",
          "name": "stdout",
          "text": [
            "Event: March on Washington for Jobs and Freedom Date: August 28, 1963\n"
          ]
        }
      ]
    },
    {
      "cell_type": "code",
      "source": [
        "variable = \"Old Howard\"\n",
        "variable = \"New Howard\"\n",
        "variable = \"Old Howard\"\n",
        "print(variable)"
      ],
      "metadata": {
        "colab": {
          "base_uri": "https://localhost:8080/"
        },
        "id": "oqH5xKuGxArQ",
        "outputId": "b6844485-2c9a-4e38-bfd0-80d9d0c2a2ec"
      },
      "execution_count": null,
      "outputs": [
        {
          "output_type": "stream",
          "name": "stdout",
          "text": [
            "Old Howard\n"
          ]
        }
      ]
    },
    {
      "cell_type": "code",
      "source": [
        "My_Affirmation = \"Black is beautiful \"\n",
        "print(My_Affirmation * 5)"
      ],
      "metadata": {
        "colab": {
          "base_uri": "https://localhost:8080/"
        },
        "id": "ojpwB03WxOOs",
        "outputId": "6c505cd3-cdca-48bb-cae3-a743013f230c"
      },
      "execution_count": null,
      "outputs": [
        {
          "output_type": "stream",
          "name": "stdout",
          "text": [
            "Black is beautiful Black is beautiful Black is beautiful Black is beautiful Black is beautiful \n"
          ]
        }
      ]
    },
    {
      "cell_type": "code",
      "source": [
        "int(10/3)"
      ],
      "metadata": {
        "id": "0nx7E9xFYVD0",
        "outputId": "a7bac625-a3a0-4d3f-f13a-b59a0b94c07c",
        "colab": {
          "base_uri": "https://localhost:8080/"
        }
      },
      "execution_count": null,
      "outputs": [
        {
          "output_type": "execute_result",
          "data": {
            "text/plain": [
              "3"
            ]
          },
          "metadata": {},
          "execution_count": 1
        }
      ]
    }
  ]
}